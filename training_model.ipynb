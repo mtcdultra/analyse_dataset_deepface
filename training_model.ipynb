{
 "cells": [
  {
   "cell_type": "code",
   "execution_count": 4,
   "metadata": {},
   "outputs": [],
   "source": [
    "import os\n",
    "import numpy as np\n",
    "import keras\n",
    "from keras.models import Sequential\n",
    "from keras.layers import Conv2D, MaxPooling2D, AveragePooling2D, BatchNormalization\n",
    "from keras.layers import Dense, Dropout, Flatten\n",
    "from keras.callbacks import ModelCheckpoint\n",
    "from keras.preprocessing.image import ImageDataGenerator\n",
    "import matplotlib.pyplot as plt"
   ]
  },
  {
   "cell_type": "code",
   "execution_count": 5,
   "metadata": {},
   "outputs": [],
   "source": [
    "num_classes = 7\n",
    "batch_size = 256\n",
    "epochs = 10\n",
    "dimension_1 = 48\n",
    "dimension_2 = 48\n",
    "\n",
    "##################### TEST VALUES #####################\n",
    "path_csv_file = '/Users/mtcd/Downloads/MEAD_DATASET/mead_100/mead_csv_frames_100_48x48.csv'\n",
    "path_save_model = '/Users/mtcd/Downloads/MEAD_DATASET/mead_100'\n",
    "model_name_file = 'model_100_48x48.h5'\n",
    "model_weight_name_file = 'model_weights_100_48x48.h5'\n",
    "#######################################################"
   ]
  },
  {
   "cell_type": "code",
   "execution_count": 6,
   "metadata": {},
   "outputs": [
    {
     "name": "stdout",
     "output_type": "stream",
     "text": [
      "number of instances:  53373\n",
      "instance length:  2304\n"
     ]
    }
   ],
   "source": [
    "with open(path_csv_file) as f:\n",
    "    content = f.readlines()\n",
    "lines = np.array(content)\n",
    "num_of_instances = lines.size\n",
    "print('number of instances: ', num_of_instances)\n",
    "print('instance length: ', len(lines[1].split(',')[1].split(' ')))"
   ]
  },
  {
   "cell_type": "code",
   "execution_count": 7,
   "metadata": {},
   "outputs": [
    {
     "name": "stdout",
     "output_type": "stream",
     "text": [
      "42624 train samples\n",
      "10748 test samples\n"
     ]
    }
   ],
   "source": [
    "# initialize trainset and test set\n",
    "x_train, y_train, x_test, y_test = [], [], [], []\n",
    "\n",
    "for index in range(1, num_of_instances):\n",
    "    try:\n",
    "        emotion, img, usage = lines[index].split(',')\n",
    "        val = img.split(' ')\n",
    "        pixels = np.array(val, 'float32')\n",
    "        emotion = keras.utils.to_categorical(emotion, num_classes)\n",
    "        if 'Training' in usage:\n",
    "            y_train.append(emotion)\n",
    "            x_train.append(pixels)\n",
    "        elif 'Test' in usage:\n",
    "            y_test.append(emotion)\n",
    "            x_test.append(pixels)\n",
    "    except:\n",
    "        print('', end='')\n",
    "\n",
    "x_train = np.array(x_train, 'float32')\n",
    "y_train = np.array(y_train, 'float32')\n",
    "x_test = np.array(x_test, 'float32')\n",
    "y_test = np.array(y_test, 'float32')\n",
    "\n",
    "x_train /= 255   # normalize inputs between [0, 1]\n",
    "x_test /= 255\n",
    "\n",
    "x_train = x_train.reshape(x_train.shape[0], dimension_1, dimension_2, 1)\n",
    "x_train = x_train.astype('float32')\n",
    "\n",
    "x_test = x_test.reshape(x_test.shape[0], dimension_1, dimension_2, 1)\n",
    "x_test = x_test.astype('float32')\n",
    "\n",
    "print(x_train.shape[0], 'train samples')\n",
    "print(x_test.shape[0], 'test samples')"
   ]
  },
  {
   "cell_type": "code",
   "execution_count": 8,
   "metadata": {},
   "outputs": [],
   "source": [
    "def model():\n",
    "\n",
    "    model = Sequential()\n",
    "    \n",
    "    #1st convolution layer\n",
    "    model.add(Conv2D(32,kernel_size=(5,5),input_shape=(dimension_1,dimension_2,1),activation='relu'))\n",
    "    model.add(MaxPooling2D(pool_size=(5,5), strides=(2, 2)))\n",
    "    \n",
    "    #2nd convolution layer\n",
    "    model.add(Conv2D(64, (3, 3), activation='relu'))\n",
    "    model.add(AveragePooling2D(pool_size=(3,3), strides=(2, 2)))\n",
    "\n",
    "    #3rd convolution layer\n",
    "    model.add(Conv2D(128, (3, 3), activation='relu'))\n",
    "    model.add(AveragePooling2D(pool_size=(3,3), strides=(2, 2)))\n",
    "    \n",
    "    model.add(Flatten())\n",
    "    model.add(Dense(1024, activation='relu'))\n",
    "    model.add(Dropout(0.2))\n",
    "    \n",
    "    model.add(Dense(num_classes, activation='softmax'))\n",
    "\n",
    "    return model"
   ]
  },
  {
   "cell_type": "code",
   "execution_count": 9,
   "metadata": {},
   "outputs": [],
   "source": [
    "def model_old():\n",
    "    # construct CNN structure\n",
    "    model = Sequential()\n",
    "\n",
    "    model.add(Conv2D(32,kernel_size=(5,5),input_shape=(dimension_1,dimension_2,1),activation='relu'))\n",
    "    model.add(MaxPooling2D(pool_size=(2,2)))\n",
    "\n",
    "    model.add(Conv2D(64,kernel_size=(3,3),activation='relu'))\n",
    "    model.add(MaxPooling2D(pool_size=(2,2)))\n",
    "    model.add(Dropout(0.5))\n",
    "\n",
    "    model.add(Flatten())\n",
    "    model.add(Dense(128,activation='relu'))\n",
    "    model.add(Dense(num_classes,activation='softmax'))\n",
    "\n",
    "    return model"
   ]
  },
  {
   "cell_type": "code",
   "execution_count": 10,
   "metadata": {},
   "outputs": [
    {
     "name": "stderr",
     "output_type": "stream",
     "text": [
      "2023-01-19 08:28:55.409433: I tensorflow/core/platform/cpu_feature_guard.cc:193] This TensorFlow binary is optimized with oneAPI Deep Neural Network Library (oneDNN) to use the following CPU instructions in performance-critical operations:  SSE4.1 SSE4.2\n",
      "To enable them in other operations, rebuild TensorFlow with the appropriate compiler flags.\n",
      "2023-01-19 08:28:55.421798: I tensorflow/core/common_runtime/pluggable_device/pluggable_device_factory.cc:306] Could not identify NUMA node of platform GPU ID 0, defaulting to 0. Your kernel may not have been built with NUMA support.\n",
      "2023-01-19 08:28:55.423138: I tensorflow/core/common_runtime/pluggable_device/pluggable_device_factory.cc:272] Created TensorFlow device (/job:localhost/replica:0/task:0/device:GPU:0 with 0 MB memory) -> physical PluggableDevice (device: 0, name: METAL, pci bus id: <undefined>)\n"
     ]
    },
    {
     "name": "stdout",
     "output_type": "stream",
     "text": [
      "Metal device set to: Apple M2\n",
      "\n",
      "systemMemory: 8.00 GB\n",
      "maxCacheSize: 2.67 GB\n",
      "\n",
      "Model: \"sequential\"\n",
      "_________________________________________________________________\n",
      " Layer (type)                Output Shape              Param #   \n",
      "=================================================================\n",
      " conv2d (Conv2D)             (None, 44, 44, 32)        832       \n",
      "                                                                 \n",
      " max_pooling2d (MaxPooling2D  (None, 20, 20, 32)       0         \n",
      " )                                                               \n",
      "                                                                 \n",
      " conv2d_1 (Conv2D)           (None, 18, 18, 64)        18496     \n",
      "                                                                 \n",
      " average_pooling2d (AverageP  (None, 8, 8, 64)         0         \n",
      " ooling2D)                                                       \n",
      "                                                                 \n",
      " conv2d_2 (Conv2D)           (None, 6, 6, 128)         73856     \n",
      "                                                                 \n",
      " average_pooling2d_1 (Averag  (None, 2, 2, 128)        0         \n",
      " ePooling2D)                                                     \n",
      "                                                                 \n",
      " flatten (Flatten)           (None, 512)               0         \n",
      "                                                                 \n",
      " dense (Dense)               (None, 1024)              525312    \n",
      "                                                                 \n",
      " dropout (Dropout)           (None, 1024)              0         \n",
      "                                                                 \n",
      " dense_1 (Dense)             (None, 7)                 7175      \n",
      "                                                                 \n",
      "=================================================================\n",
      "Total params: 625,671\n",
      "Trainable params: 625,671\n",
      "Non-trainable params: 0\n",
      "_________________________________________________________________\n"
     ]
    }
   ],
   "source": [
    "model = model()\n",
    "model.summary()"
   ]
  },
  {
   "cell_type": "code",
   "execution_count": 11,
   "metadata": {},
   "outputs": [
    {
     "name": "stdout",
     "output_type": "stream",
     "text": [
      "Epoch 1/10\n"
     ]
    },
    {
     "name": "stderr",
     "output_type": "stream",
     "text": [
      "2023-01-19 08:28:58.960241: I tensorflow/core/grappler/optimizers/custom_graph_optimizer_registry.cc:114] Plugin optimizer for device_type GPU is enabled.\n"
     ]
    },
    {
     "name": "stdout",
     "output_type": "stream",
     "text": [
      "1332/1332 [==============================] - 42s 28ms/step - loss: 1.3319 - accuracy: 0.4497\n",
      "Epoch 2/10\n",
      "1332/1332 [==============================] - 42s 32ms/step - loss: 0.6547 - accuracy: 0.7454\n",
      "Epoch 3/10\n",
      "1332/1332 [==============================] - 43s 32ms/step - loss: 0.3983 - accuracy: 0.8540\n",
      "Epoch 4/10\n",
      "1332/1332 [==============================] - 41s 31ms/step - loss: 0.2777 - accuracy: 0.8996\n",
      "Epoch 5/10\n",
      "1332/1332 [==============================] - 41s 31ms/step - loss: 0.2104 - accuracy: 0.9245\n",
      "Epoch 6/10\n",
      "1332/1332 [==============================] - 43s 32ms/step - loss: 0.1725 - accuracy: 0.9386\n",
      "Epoch 7/10\n",
      "1332/1332 [==============================] - 57s 43ms/step - loss: 0.1416 - accuracy: 0.9501\n",
      "Epoch 8/10\n",
      "1332/1332 [==============================] - 73s 55ms/step - loss: 0.1205 - accuracy: 0.9576\n",
      "Epoch 9/10\n",
      "1332/1332 [==============================] - 56s 42ms/step - loss: 0.1046 - accuracy: 0.9635\n",
      "Epoch 10/10\n",
      "1332/1332 [==============================] - 56s 42ms/step - loss: 0.0910 - accuracy: 0.9672\n",
      "  9/336 [..............................] - ETA: 2s  "
     ]
    },
    {
     "name": "stderr",
     "output_type": "stream",
     "text": [
      "2023-01-19 08:37:13.020001: I tensorflow/core/grappler/optimizers/custom_graph_optimizer_registry.cc:114] Plugin optimizer for device_type GPU is enabled.\n"
     ]
    },
    {
     "name": "stdout",
     "output_type": "stream",
     "text": [
      "336/336 [==============================] - 5s 12ms/step\n"
     ]
    }
   ],
   "source": [
    "model.compile(\n",
    "    loss='categorical_crossentropy',\n",
    "    optimizer=keras.optimizers.Adam(),\n",
    "    metrics=['accuracy']\n",
    ")\n",
    "\n",
    "history = model.fit(x_train, y_train, epochs=epochs)\n",
    "\n",
    "y_pred = (model.predict(x_test))"
   ]
  },
  {
   "cell_type": "code",
   "execution_count": 12,
   "metadata": {},
   "outputs": [],
   "source": [
    "model.save(os.path.join(path_save_model, model_name_file))\n",
    "model.save_weights(os.path.join(path_save_model, model_weight_name_file))"
   ]
  },
  {
   "cell_type": "code",
   "execution_count": 13,
   "metadata": {},
   "outputs": [
    {
     "name": "stderr",
     "output_type": "stream",
     "text": [
      "2023-01-19 08:37:22.497686: I tensorflow/core/grappler/optimizers/custom_graph_optimizer_registry.cc:114] Plugin optimizer for device_type GPU is enabled.\n"
     ]
    },
    {
     "name": "stdout",
     "output_type": "stream",
     "text": [
      "Train loss: 0.07206813991069794\n",
      "Train accuracy: 97.50375747680664\n"
     ]
    },
    {
     "name": "stderr",
     "output_type": "stream",
     "text": [
      "2023-01-19 08:37:47.250937: I tensorflow/core/grappler/optimizers/custom_graph_optimizer_registry.cc:114] Plugin optimizer for device_type GPU is enabled.\n"
     ]
    },
    {
     "name": "stdout",
     "output_type": "stream",
     "text": [
      "Test loss: 0.10598679631948471\n",
      "Test accuracy: 96.56680226325989\n",
      "[[5.1065348e-04 1.8437218e-05 2.3112354e-01 ... 2.6497850e-03\n",
      "  7.5162512e-01 1.3055648e-02]\n",
      " [9.8467618e-01 2.6894303e-03 5.1533006e-04 ... 8.4670185e-04\n",
      "  2.1354269e-04 6.5591256e-03]\n",
      " [1.9287054e-20 6.8172321e-09 6.8033676e-11 ... 8.0563717e-10\n",
      "  5.7249527e-10 1.9789584e-07]\n",
      " ...\n",
      " [4.1464012e-15 5.6891813e-10 9.4234811e-12 ... 4.0649661e-09\n",
      "  3.0914524e-08 9.9999988e-01]\n",
      " [1.3209533e-09 9.9993527e-01 6.2046291e-07 ... 8.8145420e-09\n",
      "  1.4986389e-05 1.1577681e-09]\n",
      " [9.9875343e-01 1.2401680e-03 8.9544033e-10 ... 6.4107358e-06\n",
      "  9.1963243e-13 5.1313233e-12]]\n"
     ]
    }
   ],
   "source": [
    "# Evaluation\n",
    "train_score = model.evaluate(x_train, y_train, verbose=0)\n",
    "print('Train loss:', train_score[0])\n",
    "print('Train accuracy:', 100*train_score[1])\n",
    " \n",
    "test_score = model.evaluate(x_test, y_test, verbose=0)\n",
    "print('Test loss:', test_score[0])\n",
    "print('Test accuracy:', 100*test_score[1])\n",
    "print(y_pred)"
   ]
  },
  {
   "cell_type": "code",
   "execution_count": 14,
   "metadata": {},
   "outputs": [
    {
     "name": "stdout",
     "output_type": "stream",
     "text": [
      "336/336 - 5s - loss: 0.1060 - accuracy: 0.9657 - 5s/epoch - 16ms/step\n"
     ]
    },
    {
     "data": {
      "image/png": "[encoded data removed]",
      "text/plain": [
       "<Figure size 640x480 with 1 Axes>"
      ]
     },
     "metadata": {},
     "output_type": "display_data"
    }
   ],
   "source": [
    "plt.plot(history.history['accuracy'], label='accuracy')\n",
    "plt.xlabel('Epoch')\n",
    "plt.ylabel('Accuracy')\n",
    "plt.ylim([0.5, 1])\n",
    "plt.legend(loc='lower right')\n",
    "\n",
    "test_loss, test_acc = model.evaluate(x_test,  y_test, verbose=2)"
   ]
  },
  {
   "cell_type": "code",
   "execution_count": null,
   "metadata": {},
   "outputs": [],
   "source": []
  }
 ],
 "metadata": {
  "kernelspec": {
   "display_name": ".venv_add",
   "language": "python",
   "name": "python3"
  },
  "language_info": {
   "codemirror_mode": {
    "name": "ipython",
    "version": 3
   },
   "file_extension": ".py",
   "mimetype": "text/x-python",
   "name": "python",
   "nbconvert_exporter": "python",
   "pygments_lexer": "ipython3",
   "version": "3.10.7"
  },
  "orig_nbformat": 4,
  "vscode": {
   "interpreter": {
    "hash": "6171363b8c1f082635eb5aaa58d1b8af1de367bb3a2232bf07cad16cf72738d7"
   }
  }
 },
 "nbformat": 4,
 "nbformat_minor": 2
}
