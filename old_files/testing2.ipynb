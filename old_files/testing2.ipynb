{
 "cells": [
  {
   "cell_type": "code",
   "execution_count": null,
   "metadata": {},
   "outputs": [],
   "source": [
    "import os\n",
    "import pandas as pd\n",
    "import numpy as np\n",
    "import shutil\n",
    "import csv"
   ]
  },
  {
   "cell_type": "code",
   "execution_count": 15,
   "metadata": {},
   "outputs": [
    {
     "name": "stdout",
     "output_type": "stream",
     "text": [
      "6\n"
     ]
    }
   ],
   "source": [
    "EMOTIONS = ['angry', 'disgusted', 'fear', 'neutral', 'sad', 'surprised', 'happy']\n",
    "\n",
    "def define_emotion_from_file_name(file_name):\n",
    "    for emotion in EMOTIONS:\n",
    "        if emotion in str(file_name):\n",
    "            emotion\n",
    "            break\n",
    "    return EMOTIONS.index(emotion)\n",
    "\n",
    "print(define_emotion_from_file_name('_Users_mtcd_Downloads_dataset_original_mead_M005_front_happy_level_1_002_mp4_27'))"
   ]
  },
  {
   "cell_type": "code",
   "execution_count": null,
   "metadata": {},
   "outputs": [],
   "source": [
    "original_path = '/Users/mtcd/Downloads/mead_frames_60_perc'\n",
    "def split_train_and_test_csv(original_path):\n",
    "    df = pd.DataFrame(os.listdir(original_path))\n",
    "    msk = np.random.rand(len(df)) < 0.8 \n",
    "    train = df[msk] \n",
    "    train['usage'] = 'Training'\n",
    "    test = df[~msk]\n",
    "    test['usage'] = 'Test'\n",
    "    result = pd.merge(train, test, how='outer')\n",
    "    \n",
    "    return result.values.tolist()\n",
    "\n",
    "split_train_and_test_csv(original_path)"
   ]
  },
  {
   "cell_type": "code",
   "execution_count": null,
   "metadata": {},
   "outputs": [],
   "source": [
    "from deepface import DeepFace\n",
    "\n",
    "path = '/Users/mtcd/Downloads/mead_frames'\n",
    "\n",
    "for folder, subfolder, files in os.walk(path):        \n",
    "    \n",
    "\n",
    "    for file in files:\n",
    "        obj = DeepFace.analyze(img_path = os.path.join(path,file), actions = ['emotion'],enforce_detection=False)['dominant_emotion']\n",
    "        \n",
    "        print(f'{obj} - {file}')\n",
    "        \n",
    "#path = '/Users/mtcd/Downloads/mead_frames/_Users_mtcd_Downloads_dataset_original_mead_W040_front_sad_level_3_001_mp4_47.jpg'\n",
    "\n",
    "\n",
    "\n",
    "#print(obj)\n"
   ]
  },
  {
   "cell_type": "code",
   "execution_count": null,
   "metadata": {},
   "outputs": [],
   "source": [
    "from deepface import DeepFace\n",
    "\n",
    "path = '/Users/mtcd/Downloads/TESTE_MEAD_DATASET/temp'\n",
    "\n",
    "for folder, subfolder, files in os.walk(path):        \n",
    "    \n",
    "\n",
    "\n",
    "    for file in files:\n",
    "\n",
    "\n",
    "        detected_face = img[int(y):int(y+h), int(x):int(x+w)] #crop detected face\n",
    "        detected_face = cv2.cvtColor(detected_face, cv2.COLOR_BGR2GRAY) #transform to gray scale\n",
    "        detected_face = cv2.resize(detected_face, (48, 48)) #resize to 48x48\n",
    "\n",
    "        obj = DeepFace.analyze(img_path = os.path.join(path,file), actions = ['emotion'],enforce_detection=False)['dominant_emotion']\n",
    "        \n",
    "        print(f'{obj} - {file}')\n",
    "        \n",
    "#path = '/Users/mtcd/Downloads/mead_frames/_Users_mtcd_Downloads_dataset_original_mead_W040_front_sad_level_3_001_mp4_47.jpg'\n",
    "\n",
    "\n",
    "\n",
    "#print(obj)\n"
   ]
  },
  {
   "cell_type": "code",
   "execution_count": null,
   "metadata": {},
   "outputs": [],
   "source": [
    "#import datetime\n",
    "from datetime import datetime\n",
    "print(datetime.strptime(str(datetime.now()),'%Y-%m-%d %H:%M%S%MM'))\n",
    "print(f'casa{datetime.datetime.now()}')"
   ]
  },
  {
   "cell_type": "code",
   "execution_count": null,
   "metadata": {},
   "outputs": [],
   "source": []
  }
 ],
 "metadata": {
  "kernelspec": {
   "display_name": "venv",
   "language": "python",
   "name": "python3"
  },
  "language_info": {
   "codemirror_mode": {
    "name": "ipython",
    "version": 3
   },
   "file_extension": ".py",
   "mimetype": "text/x-python",
   "name": "python",
   "nbconvert_exporter": "python",
   "pygments_lexer": "ipython3",
   "version": "3.10.7 (v3.10.7:6cc6b13308, Sep  5 2022, 14:02:52) [Clang 13.0.0 (clang-1300.0.29.30)]"
  },
  "orig_nbformat": 4,
  "vscode": {
   "interpreter": {
    "hash": "a5b690f2f72e35d86321cc2cea28d6e15c94f37851ac7f95b622677fb49eb5d3"
   }
  }
 },
 "nbformat": 4,
 "nbformat_minor": 2
}
