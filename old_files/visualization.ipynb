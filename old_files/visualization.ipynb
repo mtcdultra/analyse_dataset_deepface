{
 "cells": [
  {
   "cell_type": "code",
   "execution_count": 1,
   "metadata": {},
   "outputs": [],
   "source": [
    "import os\n",
    "import pandas as pd\n",
    "\n",
    "### CREATE PANDAS DATAFRAME WITH SUMMARY\n",
    "\n",
    "def summary():    \n",
    "    persons = ['M005', 'M007', 'M009', 'M011', 'M013', 'M023', 'M024', 'W011', 'W019', 'W026', 'W035', 'W037', 'W038', 'W040']     \n",
    "    emotions = ['angry', 'disgusted', 'fear', 'neutral', 'sad', 'surprised', 'happy']\n",
    "\n",
    "    path_frame_files = '/Users/mtcd/Downloads/mead_frames'\n",
    "\n",
    "    dirs = os.listdir(path_frame_files)\n",
    "\n",
    "    emotions_data, persons_data = [], []\n",
    "    for file in dirs:\n",
    "        for person in persons:\n",
    "            if person in file:\n",
    "                persons_data.append(person)\n",
    "        for emotion in emotions:\n",
    "            if emotion in file:\n",
    "                emotions_data.append(emotion)\n",
    "\n",
    "    whole_data = list(zip(persons_data, emotions_data))\n",
    "    data = pd.DataFrame(whole_data, columns=['person','emotion'])\n",
    "\n",
    "    print('Total frames: ' + str(data.count()))\n",
    "    print(data.groupby('person').count())\n",
    "    print('#############')\n",
    "    print(data.groupby('emotion').count())"
   ]
  },
  {
   "cell_type": "code",
   "execution_count": 2,
   "metadata": {},
   "outputs": [
    {
     "name": "stdout",
     "output_type": "stream",
     "text": [
      "Total frames: person     25794\n",
      "emotion    25794\n",
      "dtype: int64\n",
      "        emotion\n",
      "person         \n",
      "M005        586\n",
      "M007       2233\n",
      "M009        595\n",
      "M011       1511\n",
      "M013        928\n",
      "M023       1369\n",
      "M024       1692\n",
      "W011        665\n",
      "W026       3587\n",
      "W035       2468\n",
      "W037       2903\n",
      "W038       3044\n",
      "W040       4213\n",
      "#############\n",
      "           person\n",
      "emotion          \n",
      "angry        2945\n",
      "disgusted    3919\n",
      "fear         2945\n",
      "happy        2336\n",
      "neutral      4691\n",
      "sad          4646\n",
      "surprised    4312\n"
     ]
    }
   ],
   "source": [
    "summary()"
   ]
  },
  {
   "cell_type": "code",
   "execution_count": 15,
   "metadata": {},
   "outputs": [
    {
     "name": "stdout",
     "output_type": "stream",
     "text": [
      "<class 'pandas.core.frame.DataFrame'>\n"
     ]
    }
   ],
   "source": [
    "import pandas as pd\n",
    "import numpy as np\n",
    "\n",
    "teste = pd.read_csv('/Users/mtcd/Downloads/mead_dataset_60_perc/mead_csv_frames_60_perc.csv')\n",
    "\n",
    "\n",
    "\n",
    "\n"
   ]
  },
  {
   "cell_type": "code",
   "execution_count": null,
   "metadata": {},
   "outputs": [],
   "source": []
  }
 ],
 "metadata": {
  "kernelspec": {
   "display_name": "venv",
   "language": "python",
   "name": "python3"
  },
  "language_info": {
   "codemirror_mode": {
    "name": "ipython",
    "version": 3
   },
   "file_extension": ".py",
   "mimetype": "text/x-python",
   "name": "python",
   "nbconvert_exporter": "python",
   "pygments_lexer": "ipython3",
   "version": "3.10.7"
  },
  "orig_nbformat": 4,
  "vscode": {
   "interpreter": {
    "hash": "a5b690f2f72e35d86321cc2cea28d6e15c94f37851ac7f95b622677fb49eb5d3"
   }
  }
 },
 "nbformat": 4,
 "nbformat_minor": 2
}
