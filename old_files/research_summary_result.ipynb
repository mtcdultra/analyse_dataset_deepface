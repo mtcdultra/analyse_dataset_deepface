{
 "cells": [
  {
   "cell_type": "markdown",
   "metadata": {},
   "source": [
    "## Research ti summaryze quantity of files analysed and match with emotions"
   ]
  },
  {
   "cell_type": "code",
   "execution_count": 14,
   "metadata": {},
   "outputs": [],
   "source": [
    "from sqlite3 import connect\n",
    "import pandas as pd\n",
    "\n",
    "con = connect('/Users/mtcd/Library/Mobile Documents/com~apple~CloudDocs/@Pessoal/@Evernote/Estudos/@programming/deepface_analysis_datasets/dataset.db')\n",
    "\n",
    "############################################################################################################\n",
    "\n",
    "query_for_static_img = \"\"\"\n",
    "        SELECT  *\n",
    "        FROM    emotion_analysed_mead_dataset\n",
    "        WHERE file_name NOT LIKE \"%ontempt%\"\n",
    "        \"\"\"\n",
    "df_img = pd.read_sql(query_for_static_img, con)\n",
    "\n",
    "############################################################################################################\n",
    "\n",
    "query_for_video = \"\"\"\n",
    "        SELECT  file_name, original_emotion, emotion_captured_name, dataset\n",
    "        FROM    emotion_record\n",
    "        WHERE file_name NOT LIKE \"%ontempt%\"\n",
    "        \"\"\"\n",
    "df_video = pd.read_sql(query_for_video, con)\n",
    "\n",
    "############################################################################################################\n",
    "\n",
    "def print_result(dataset, files, correct):\n",
    "    print(\"####\")\n",
    "    print(f'Dataset: {dataset}')\n",
    "    print(\"Total de ficheiros pesquisados: \", files)\n",
    "    print(\"Total de ficheiros analisados corretamente: \", correct)\n"
   ]
  },
  {
   "cell_type": "code",
   "execution_count": 15,
   "metadata": {},
   "outputs": [
    {
     "name": "stdout",
     "output_type": "stream",
     "text": [
      "####\n",
      "Dataset: CKPLUS\n",
      "Total de ficheiros pesquisados:  1854\n",
      "Total de ficheiros analisados corretamente:  1044\n",
      "####\n",
      "Dataset: FER-2013\n",
      "Total de ficheiros pesquisados:  43052\n",
      "Total de ficheiros analisados corretamente:  33880\n",
      "####\n",
      "Dataset: ADFES-BIV\n",
      "Total de ficheiros pesquisados:  504\n",
      "Total de ficheiros analisados corretamente:  149\n",
      "####\n",
      "Dataset: ADFES-BIV\n",
      "Total de ficheiros pesquisados:  504\n",
      "Total de ficheiros analisados corretamente:  149\n",
      "####\n",
      "Dataset: MEAD\n",
      "Total de ficheiros pesquisados:  4616\n",
      "Total de ficheiros analisados corretamente:  1004\n",
      "\n",
      "[['CKPLUS', 1854, 1044], ['FER-2013', 43052, 33880], ['ADFES-BIV', 504, 149], ['ADFES-BIV', 504, 149], ['MEAD', 4616, 1004]]\n"
     ]
    }
   ],
   "source": [
    "############################################################################################################\n",
    "## FOR IMG FILES\n",
    "dataset_searched_img = ['CKPLUS', 'FER-2013', 'ADFES-BIV']\n",
    "resumo = []\n",
    "\n",
    "for i in dataset_searched_img:\n",
    "    data_frame_filtred = df_img.loc[df_img['dataset'] == i]\n",
    "\n",
    "    qtde_acertos = 0\n",
    "    for line in data_frame_filtred.values:     \n",
    "        if line[1] == line[3]:\n",
    "            qtde_acertos += 1\n",
    "\n",
    "    resumo.append([i, len(data_frame_filtred), qtde_acertos])\n",
    "\n",
    "    print(\"####\")\n",
    "    print(f'Dataset: {i}')\n",
    "    print(\"Total de ficheiros pesquisados: \", len(data_frame_filtred))\n",
    "    print(\"Total de ficheiros analisados corretamente: \", qtde_acertos)\n",
    "\n",
    "############################################################################################################\n",
    "\n",
    "## FOR VIDEOS FILES\n",
    "\n",
    "dataset_searched_video = ['ADFES-BIV', 'MEAD']\n",
    "\n",
    "for i in dataset_searched_video:\n",
    "    data_frame_filtred = df_video.loc[df_video['dataset'] == i]\n",
    "    qtde_acertos = 0\n",
    "    for line in data_frame_filtred.values:     \n",
    "        if line[1] == line[2]:\n",
    "            qtde_acertos += 1\n",
    "\n",
    "    resumo.append([i, len(data_frame_filtred), qtde_acertos])\n",
    "\n",
    "    print_result(i, len(data_frame_filtred), qtde_acertos)\n",
    "\n",
    "print(\"\")\n",
    "print(resumo)\n",
    "    \n"
   ]
  },
  {
   "cell_type": "code",
   "execution_count": null,
   "metadata": {},
   "outputs": [],
   "source": []
  },
  {
   "cell_type": "code",
   "execution_count": null,
   "metadata": {},
   "outputs": [],
   "source": []
  }
 ],
 "metadata": {
  "kernelspec": {
   "display_name": "Python 3.10.7 64-bit",
   "language": "python",
   "name": "python3"
  },
  "language_info": {
   "codemirror_mode": {
    "name": "ipython",
    "version": 3
   },
   "file_extension": ".py",
   "mimetype": "text/x-python",
   "name": "python",
   "nbconvert_exporter": "python",
   "pygments_lexer": "ipython3",
   "version": "3.10.7"
  },
  "orig_nbformat": 4,
  "vscode": {
   "interpreter": {
    "hash": "aee8b7b246df8f9039afb4144a1f6fd8d2ca17a180786b69acc140d282b71a49"
   }
  }
 },
 "nbformat": 4,
 "nbformat_minor": 2
}
