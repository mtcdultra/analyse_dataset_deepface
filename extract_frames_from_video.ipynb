{
 "cells": [
  {
   "cell_type": "code",
   "execution_count": null,
   "metadata": {},
   "outputs": [],
   "source": [
    "import os\n",
    "import cv2\n",
    "import tools"
   ]
  },
  {
   "cell_type": "code",
   "execution_count": null,
   "metadata": {},
   "outputs": [],
   "source": [
    "def extract_frame(path_videos, path_to_save_frames, percentage):\n",
    "    count = 0\n",
    "    print(path_videos)\n",
    "    \n",
    "    video = cv2.VideoCapture(path_videos)\n",
    "    try:\n",
    "        file_list = []\n",
    "        while video.isOpened():            \n",
    "            _, image = video.read()\n",
    "            file_name_ = path_videos.replace('/', '_')\n",
    "            file_name_ = file_name_.replace('.', '_')\n",
    "            file_name_ = file_name_ + '_' + str(count)\n",
    "            file_name_ = os.path.join(path_to_save_frames, file_name_ + '.jpg')\n",
    "            cv2.imwrite(file_name_, image)\n",
    "            count += 1\n",
    "            file_list.append(file_name_)\n",
    "    except:\n",
    "        next\n",
    "    \n",
    "    if percentage >= 1:\n",
    "        \n",
    "        result = len(file_list) * (percentage/100)\n",
    "        head_part = int(result / 2)\n",
    "        tail_part = int(result / 2)\n",
    "\n",
    "        for i in file_list[0:head_part]: os.remove(i)\n",
    "        for i in file_list[-tail_part:]: os.remove(i)\n",
    "\n",
    "    video.release()\n",
    "\n",
    "    return 'Finished'"
   ]
  },
  {
   "cell_type": "code",
   "execution_count": null,
   "metadata": {},
   "outputs": [],
   "source": [
    "def main():\n",
    "\n",
    "    answer = input(\n",
    "        'Do you want create a folder to save frames files? Y or N >> '\n",
    "    )\n",
    "    if answer == 'Y':\n",
    "        path_to_save_frames = tools.create_folder()\n",
    "    else:\n",
    "        path_to_save_frames = input(\n",
    "            'Type the path where to save frames files: '\n",
    "        )\n",
    "\n",
    "    print('In this folder will be saved frames files: ', path_to_save_frames)\n",
    "    path_videos = input('Type the path where the videos files are: ')\n",
    "    percentage = int(input('If want cut off initial and final part of video, type a percentage to cut or 0 to keep all: '))\n",
    "    \n",
    "    qty_files = len(tools.get_the_file_path(path_videos))\n",
    "    qty_files_ = qty_files\n",
    "    for file_name in tools.get_the_file_path(path_videos):\n",
    "        print(str(qty_files) + ' / ' + str(qty_files_))\n",
    "        qty_files_ = qty_files_ - 1\n",
    "        extract_frame(file_name, path_to_save_frames, percentage)"
   ]
  },
  {
   "cell_type": "code",
   "execution_count": null,
   "metadata": {},
   "outputs": [],
   "source": [
    "\n",
    "if __name__ == '__main__':\n",
    "    main()"
   ]
  },
  {
   "cell_type": "code",
   "execution_count": null,
   "metadata": {},
   "outputs": [],
   "source": []
  }
 ],
 "metadata": {
  "kernelspec": {
   "display_name": "Python 3",
   "language": "python",
   "name": "python3"
  },
  "language_info": {
   "codemirror_mode": {
    "name": "ipython",
    "version": 3
   },
   "file_extension": ".py",
   "mimetype": "text/x-python",
   "name": "python",
   "nbconvert_exporter": "python",
   "pygments_lexer": "ipython3",
   "version": "3.10.7"
  },
  "orig_nbformat": 4,
  "vscode": {
   "interpreter": {
    "hash": "aee8b7b246df8f9039afb4144a1f6fd8d2ca17a180786b69acc140d282b71a49"
   }
  }
 },
 "nbformat": 4,
 "nbformat_minor": 2
}
